{
 "cells": [
  {
   "cell_type": "markdown",
   "id": "e4a33984",
   "metadata": {},
   "source": [
    "### Basic Operations"
   ]
  },
  {
   "cell_type": "code",
   "execution_count": 15,
   "id": "eaef3c6a",
   "metadata": {},
   "outputs": [
    {
     "name": "stdout",
     "output_type": "stream",
     "text": [
      "4\n"
     ]
    }
   ],
   "source": [
    "#Here, x:variable ; +: operator ; 2: constant ; print: function\n",
    "x=2;\n",
    "x=x+2;\n",
    "print(x)"
   ]
  },
  {
   "cell_type": "code",
   "execution_count": 16,
   "id": "7e79bfe7",
   "metadata": {},
   "outputs": [
    {
     "name": "stdout",
     "output_type": "stream",
     "text": [
      "234\n",
      "44.5\n",
      "jam\n"
     ]
    }
   ],
   "source": [
    "# for string constants : single quotes ('') or double quotes (\" \")\n",
    "print(234)\n",
    "print(44.5)\n",
    "print('jam')"
   ]
  },
  {
   "cell_type": "code",
   "execution_count": 17,
   "id": "cf98b363",
   "metadata": {},
   "outputs": [
    {
     "name": "stdout",
     "output_type": "stream",
     "text": [
      "-46.8\n"
     ]
    }
   ],
   "source": [
    "# Assignment statements : we assign values to variables using assignment statement (=)\n",
    "x=4;\n",
    "x= 3.9*x*(1-x);\n",
    "print(x)"
   ]
  },
  {
   "cell_type": "markdown",
   "id": "c46b570b",
   "metadata": {},
   "source": [
    "<b>Operators and Operations:</b>                            \n",
    "'+' : addition                                         \n",
    "'-' : subtraction                                   \n",
    "'*' : multiplication                                   \n",
    "'/' : division                                         \n",
    "'**': power<br>\n",
    "'%' : reminder<br>\n",
    "\n",
    "<b> Operator Precedence </b><br>\n",
    "Parenthesis<br>\n",
    "Power<br>\n",
    "Division, Mulitplication,Reminder<br>\n",
    "Subtraction,Addition<br>"
   ]
  },
  {
   "cell_type": "code",
   "execution_count": 18,
   "id": "b1ce9445",
   "metadata": {},
   "outputs": [
    {
     "name": "stdout",
     "output_type": "stream",
     "text": [
      "dd = 5\n",
      "hello there\n"
     ]
    }
   ],
   "source": [
    "#python identifies difference between numbers and strings\n",
    "dd= 1+4;\n",
    "print(\"dd =\",dd)\n",
    "ee= 'hello' +' there';\n",
    "print(ee)"
   ]
  },
  {
   "cell_type": "code",
   "execution_count": 19,
   "id": "22f52716",
   "metadata": {},
   "outputs": [
    {
     "data": {
      "text/plain": [
       "float"
      ]
     },
     "execution_count": 19,
     "metadata": {},
     "output_type": "execute_result"
    }
   ],
   "source": [
    "# type() to find type of input\n",
    "type(11.4)"
   ]
  },
  {
   "cell_type": "code",
   "execution_count": 20,
   "id": "927bb56c",
   "metadata": {},
   "outputs": [
    {
     "name": "stdout",
     "output_type": "stream",
     "text": [
      "Enter Name: Sam\n",
      "Welcome  Sam\n"
     ]
    }
   ],
   "source": [
    "# input() is just like scanf(), takes input from users\n",
    "name= input(\"Enter Name: \")\n",
    "print(\"Welcome \",name)"
   ]
  },
  {
   "cell_type": "markdown",
   "id": "86edbb4d",
   "metadata": {},
   "source": [
    "### Conditional Statements : if, else, elif, try/except"
   ]
  },
  {
   "cell_type": "code",
   "execution_count": 21,
   "id": "13215d7d",
   "metadata": {},
   "outputs": [
    {
     "name": "stdout",
     "output_type": "stream",
     "text": [
      "bigger\n",
      "completed\n"
     ]
    }
   ],
   "source": [
    "#if statement: for one way check\n",
    "x= 23;\n",
    "if x<10:\n",
    "    print('smaller')\n",
    "if x>20:\n",
    "    print('bigger')\n",
    "print('completed')    "
   ]
  },
  {
   "cell_type": "code",
   "execution_count": 22,
   "id": "60774c10",
   "metadata": {},
   "outputs": [
    {
     "name": "stdout",
     "output_type": "stream",
     "text": [
      "Enter x:34\n",
      "even number\n",
      "checked\n"
     ]
    }
   ],
   "source": [
    "#if/else combo : for 2 way check\n",
    "x= int(input('Enter x:'))\n",
    "if x%2==0 :\n",
    "    print('even number')\n",
    "else:\n",
    "    print('odd number')\n",
    "print('checked')    "
   ]
  },
  {
   "cell_type": "code",
   "execution_count": 23,
   "id": "f5a1001b",
   "metadata": {},
   "outputs": [
    {
     "name": "stdout",
     "output_type": "stream",
     "text": [
      "Enter x:23\n",
      "double digit number\n",
      "checked\n"
     ]
    }
   ],
   "source": [
    "#if/else/elif:\n",
    "x=int(input('Enter x:'))\n",
    "if x<10:\n",
    "    print(\"single digit number\")\n",
    "elif x>=10 and x<100 :\n",
    "    print(\"double digit number\")\n",
    "else:\n",
    "    print('more than 2 digits')\n",
    "print('checked')    \n"
   ]
  },
  {
   "cell_type": "code",
   "execution_count": 24,
   "id": "50c2a15a",
   "metadata": {},
   "outputs": [
    {
     "name": "stdout",
     "output_type": "stream",
     "text": [
      "your input:234\n",
      "Your input interger 234\n"
     ]
    }
   ],
   "source": [
    "#try/except: used to handle error statements and run code smoothly\n",
    "g= input('your input:')\n",
    "try:\n",
    "    i=int(g)\n",
    "    print('Your input interger',i)\n",
    "except ValueError:\n",
    "    i=-99\n",
    "    print('Not an interger',i)"
   ]
  },
  {
   "cell_type": "code",
   "execution_count": 25,
   "id": "e7823c3d",
   "metadata": {},
   "outputs": [
    {
     "name": "stdout",
     "output_type": "stream",
     "text": [
      "your input:\"566\"\n",
      "i= -1\n"
     ]
    }
   ],
   "source": [
    "h= input('your input:')\n",
    "try:\n",
    "    i= int(h)\n",
    "except ValueError:\n",
    "    i=-1\n",
    "print('i=',i)    "
   ]
  },
  {
   "cell_type": "markdown",
   "id": "8c723ce1",
   "metadata": {},
   "source": [
    "### Loops and Idioms"
   ]
  },
  {
   "cell_type": "code",
   "execution_count": 26,
   "id": "aa6798a0",
   "metadata": {},
   "outputs": [
    {
     "name": "stdout",
     "output_type": "stream",
     "text": [
      "enter n>0: 4\n",
      "4\n",
      "3\n",
      "2\n",
      "1\n",
      "blast off\n",
      "0\n"
     ]
    }
   ],
   "source": [
    "#while loop:\n",
    "n= int(input('enter n>0: '))\n",
    "while n>0:\n",
    "    print(n)\n",
    "    n=n-1\n",
    "print('blast off')\n",
    "print(n)"
   ]
  },
  {
   "cell_type": "code",
   "execution_count": 27,
   "id": "fc889aed",
   "metadata": {},
   "outputs": [
    {
     "name": "stdout",
     "output_type": "stream",
     "text": [
      ">5\n",
      ">6\n",
      ">4\n",
      ">77\n",
      ">done\n",
      "done\n"
     ]
    }
   ],
   "source": [
    "#while with a break statement:\n",
    "#break is used to come out of an infinite loop\n",
    "while True:\n",
    "    l=input('>')\n",
    "    if l=='done':\n",
    "        break\n",
    "print(l)     "
   ]
  },
  {
   "cell_type": "code",
   "execution_count": 28,
   "id": "3d92bf1e",
   "metadata": {},
   "outputs": [
    {
     "name": "stdout",
     "output_type": "stream",
     "text": [
      "*34\n",
      "34\n",
      "*34\n",
      "34\n",
      "*56\n",
      "56\n",
      "*#\n",
      "*done\n",
      "Done!\n"
     ]
    }
   ],
   "source": [
    "#continue is use to skip a particular step\n",
    "while True:\n",
    "    line= input('*')\n",
    "    if line[0] == '#':\n",
    "        continue\n",
    "    if line =='done':\n",
    "        break\n",
    "    print(line)\n",
    "print('Done!')        "
   ]
  },
  {
   "cell_type": "code",
   "execution_count": 29,
   "id": "1fcb923f",
   "metadata": {},
   "outputs": [
    {
     "name": "stdout",
     "output_type": "stream",
     "text": [
      "5\n",
      "7\n",
      "8\n",
      "4\n",
      "3\n",
      "55\n",
      "7\n",
      "9\n",
      "done\n"
     ]
    }
   ],
   "source": [
    "#for loop:\n",
    "for i in [5,7,8,4,3,55,7,9]:\n",
    "    print(i)\n",
    "print('done');    "
   ]
  },
  {
   "cell_type": "code",
   "execution_count": 30,
   "id": "dfd20cda",
   "metadata": {},
   "outputs": [
    {
     "name": "stdout",
     "output_type": "stream",
     "text": [
      "Office member:  Jim\n",
      "Office member:  Pam\n",
      "Office member:  Micheal\n",
      "Office member:  Dwight\n",
      "Dunder Mifflin\n"
     ]
    }
   ],
   "source": [
    "for i in ['Jim','Pam','Micheal','Dwight']:\n",
    "    print(\"Office member: \",i)\n",
    "print(\"Dunder Mifflin\")    "
   ]
  },
  {
   "cell_type": "code",
   "execution_count": 31,
   "id": "f6fb6ab5",
   "metadata": {},
   "outputs": [
    {
     "name": "stdout",
     "output_type": "stream",
     "text": [
      "Before:  False\n",
      "found 3\n"
     ]
    }
   ],
   "source": [
    "#search using boolean variable\n",
    "found= False\n",
    "print('Before: ',found)\n",
    "for value in [7,8,45,99,1,2,54,3]:\n",
    "    if value == 3:\n",
    "        found= True\n",
    "        print('found',value)    "
   ]
  },
  {
   "cell_type": "code",
   "execution_count": 32,
   "id": "cedf4400",
   "metadata": {},
   "outputs": [
    {
     "name": "stdout",
     "output_type": "stream",
     "text": [
      "smallest value=  1\n"
     ]
    }
   ],
   "source": [
    "# find smallest number\n",
    "smallest= None\n",
    "for value in [7,8,45,99,1,2,54,3]:\n",
    "    if smallest is None:\n",
    "        smallest=value\n",
    "    elif smallest > value:\n",
    "        smallest=value\n",
    "print(\"smallest value= \",smallest)        "
   ]
  },
  {
   "cell_type": "markdown",
   "id": "d878db75",
   "metadata": {},
   "source": [
    "### Functions"
   ]
  },
  {
   "cell_type": "code",
   "execution_count": 33,
   "id": "14a254a4",
   "metadata": {},
   "outputs": [
    {
     "name": "stdout",
     "output_type": "stream",
     "text": [
      "Hello\n",
      "Fun\n",
      "*\n",
      "Hello\n",
      "Fun\n"
     ]
    }
   ],
   "source": [
    "#basic syntax\n",
    "def thing():\n",
    "    print('Hello')\n",
    "    print('Fun')\n",
    "    \n",
    "thing()\n",
    "print('*')\n",
    "thing()"
   ]
  },
  {
   "cell_type": "code",
   "execution_count": 34,
   "id": "2e665235",
   "metadata": {},
   "outputs": [
    {
     "name": "stdout",
     "output_type": "stream",
     "text": [
      "153.86\n"
     ]
    }
   ],
   "source": [
    "#parameters\n",
    "def area(r):\n",
    "    A= 3.14*r*r\n",
    "    print(A)\n",
    "r=7\n",
    "area(r)"
   ]
  },
  {
   "cell_type": "code",
   "execution_count": 35,
   "id": "2f38c3e1",
   "metadata": {},
   "outputs": [
    {
     "data": {
      "text/plain": [
       "1436.0266666666666"
      ]
     },
     "execution_count": 35,
     "metadata": {},
     "output_type": "execute_result"
    }
   ],
   "source": [
    "#return value in function\n",
    "def volume(r):\n",
    "    V= 4/3*3.14*r*r*r\n",
    "    return V\n",
    "r=7\n",
    "volume(r)"
   ]
  },
  {
   "cell_type": "markdown",
   "id": "13dabde6",
   "metadata": {},
   "source": [
    "### Data Type:String"
   ]
  },
  {
   "cell_type": "code",
   "execution_count": 36,
   "id": "b03e8ff0",
   "metadata": {},
   "outputs": [
    {
     "name": "stdout",
     "output_type": "stream",
     "text": [
      "3rd letter in apple : p\n",
      "length of fruit: 5\n",
      "g u a v a a p p l e "
     ]
    }
   ],
   "source": [
    "#looking inside string\n",
    "fruit='apple'\n",
    "print('3rd letter in apple :',fruit[2])\n",
    "\n",
    "#length of string\n",
    "print('length of fruit:',len(fruit))\n",
    "\n",
    "#looping through strings:\n",
    "fruit='guava'\n",
    "index=0\n",
    "while index<len(fruit):\n",
    "    print(fruit[index],end=\" \")\n",
    "    index=index+1\n",
    "\n",
    "#much elegant way\n",
    "for i in 'apple':\n",
    "    print(i,end=\" \")"
   ]
  },
  {
   "cell_type": "code",
   "execution_count": 37,
   "id": "93b82a29",
   "metadata": {},
   "outputs": [
    {
     "name": "stdout",
     "output_type": "stream",
     "text": [
      "Mont\n",
      "y\n",
      "Mo\n",
      "payment\n",
      "Monthly payment\n"
     ]
    }
   ],
   "source": [
    "#slicing strings\n",
    "s= 'Monthly payment'\n",
    "print(s[0:4])       #first 3 characters\n",
    "print(s[6:7])       #sixth character\n",
    "print(s[:2])        #beginning to second character\n",
    "print(s[8:])        #eight to last character\n",
    "print(s[:])         #all characters"
   ]
  },
  {
   "cell_type": "code",
   "execution_count": 38,
   "id": "f321f0c3",
   "metadata": {},
   "outputs": [
    {
     "name": "stdout",
     "output_type": "stream",
     "text": [
      "Harry Potter\n"
     ]
    }
   ],
   "source": [
    "#string concatenation\n",
    "a= 'Harry'\n",
    "b= 'Potter'\n",
    "c= a+ ' '+b\n",
    "print(c)"
   ]
  },
  {
   "cell_type": "code",
   "execution_count": 39,
   "id": "ea5d7e57",
   "metadata": {},
   "outputs": [
    {
     "data": {
      "text/plain": [
       "True"
      ]
     },
     "execution_count": 39,
     "metadata": {},
     "output_type": "execute_result"
    }
   ],
   "source": [
    "#in as logical operator\n",
    "fruit='guava'\n",
    "'n' in fruit\n",
    "\"a\" in fruit"
   ]
  },
  {
   "cell_type": "code",
   "execution_count": 40,
   "id": "975bfbfb",
   "metadata": {},
   "outputs": [
    {
     "name": "stdout",
     "output_type": "stream",
     "text": [
      "namaste bahadur\n",
      "11\n",
      "-1\n",
      "NAMASTE BAHADUR\n",
      "Namaste Hanumant\n",
      "Namaste bahadur\n"
     ]
    }
   ],
   "source": [
    "#string library: \n",
    "#these doesn't modify the original string,instead they return a new string that has been altered\n",
    "greet= 'Namaste Bahadur'\n",
    "print(greet.lower())                        #all letters lower case\n",
    "print(greet.find('ad'))                     #prints first position of characters to be found\n",
    "print(greet.find('z'))                      #if not present returns garbage value(-1)\n",
    "print(greet.upper())                        #all letters upper case\n",
    "print(greet.replace('Bahadur','Hanumant'))  #replaces all occurances of serach string with replacement string\n",
    "print(greet.capitalize())                   #capitalize first letter of the string"
   ]
  },
  {
   "cell_type": "code",
   "execution_count": 41,
   "id": "788d3946",
   "metadata": {},
   "outputs": [
    {
     "name": "stdout",
     "output_type": "stream",
     "text": [
      "  Earth is not round  \n",
      "Earth is not round  \n",
      "  Earth is not round\n",
      "Earth is not round\n"
     ]
    },
    {
     "data": {
      "text/plain": [
       "True"
      ]
     },
     "execution_count": 41,
     "metadata": {},
     "output_type": "execute_result"
    }
   ],
   "source": [
    "fact= \"  Earth is not round  \"\n",
    "print(fact)\n",
    "print(fact.lstrip())      #removes whitespace from left side\n",
    "print(fact.rstrip())      #removes whitespace from right side\n",
    "print(fact.strip())       #removes whitespace from both sides\n",
    "d=fact.strip()\n",
    "d.startswith('Earth',0,5) #checks if string starts with given string, with start and end index specified"
   ]
  },
  {
   "cell_type": "markdown",
   "id": "3feea9b1",
   "metadata": {},
   "source": [
    "### Files Handeling"
   ]
  },
  {
   "cell_type": "code",
   "execution_count": 44,
   "id": "24c6e7d8",
   "metadata": {},
   "outputs": [],
   "source": [
    "#open() returns a file handle, a pothole between your program and file\n",
    "fhand= open('bear.txt','r')   # mode: w to write, r to read \n",
    "                              # if file missing: setback msg"
   ]
  },
  {
   "cell_type": "code",
   "execution_count": 54,
   "id": "9d0f685a",
   "metadata": {},
   "outputs": [
    {
     "name": "stdout",
     "output_type": "stream",
     "text": [
      "Types of Bears:\n",
      "\n",
      "North American Black Bear\n",
      "\n",
      "Asiatic black Bear\n",
      "\n",
      "Brown Bear\n",
      "\n",
      "Polar Bear\n",
      "\n",
      "Panda Bear\n",
      "\n",
      "Sloth Bear\n",
      "\n",
      "Andean Bear\n",
      "\n",
      "Sun Bear\n"
     ]
    }
   ],
   "source": [
    "#reading whole file by iterate a sequence\n",
    "xfile= open('bear.txt')\n",
    "for Asian in xfile:\n",
    "    print(Asian)"
   ]
  },
  {
   "cell_type": "code",
   "execution_count": 59,
   "id": "1999e1f0",
   "metadata": {},
   "outputs": [
    {
     "name": "stdout",
     "output_type": "stream",
     "text": [
      "125\n",
      "Types of Bears:\n",
      "\n"
     ]
    }
   ],
   "source": [
    "#reading whole file at once:\n",
    "fhand=open('bear.txt')\n",
    "imp=fhand.read()  #reads all characters\n",
    "print(len(imp))   #number of all characters\n",
    "print(imp[:16])"
   ]
  },
  {
   "cell_type": "code",
   "execution_count": 63,
   "id": "b8b86612",
   "metadata": {},
   "outputs": [
    {
     "name": "stdout",
     "output_type": "stream",
     "text": [
      "North American Black Bear\n",
      "Asiatic black Bear\n",
      "Brown Bear\n",
      "Polar Bear\n",
      "Panda Bear\n",
      "Sloth Bear\n",
      "Andean Bear\n",
      "Sun Bear\n"
     ]
    }
   ],
   "source": [
    "#searching through a file:\n",
    "#suppose some lines have special info like emails or roll number,we can read each line and extract info through them\n",
    "xfile=open('Bear.txt')\n",
    "for line in xfile:\n",
    "    k=line.strip()\n",
    "    if k.endswith('Bear'):\n",
    "        print(k)"
   ]
  },
  {
   "cell_type": "code",
   "execution_count": 66,
   "id": "4e5def93",
   "metadata": {},
   "outputs": [
    {
     "name": "stdout",
     "output_type": "stream",
     "text": [
      "Sloth Bear\n"
     ]
    }
   ],
   "source": [
    "xfile=open('Bear.txt')\n",
    "for line in xfile:\n",
    "    line=line.strip()\n",
    "    if not 'Sloth' in line:\n",
    "        continue\n",
    "    print(line)    "
   ]
  },
  {
   "cell_type": "code",
   "execution_count": 67,
   "id": "7443a2c4",
   "metadata": {},
   "outputs": [],
   "source": [
    "#use try and except for bad file name:\n",
    "try:\n",
    "    xfile=open('Bear.txt')\n",
    "except:\n",
    "    print('file cannot be opened!')"
   ]
  },
  {
   "cell_type": "markdown",
   "id": "dd26fc3f",
   "metadata": {},
   "source": [
    "### Lists\n",
    "A collection that alllows us to put multiple values in a single variable<br>\n",
    "List can be empty<br>\n",
    "A list element can be another list : [1,[5,6],7]<br>\n",
    "Lists are mutable, strings are immutable!<br>"
   ]
  },
  {
   "cell_type": "code",
   "execution_count": 72,
   "id": "260a1c2a",
   "metadata": {},
   "outputs": [
    {
     "name": "stdout",
     "output_type": "stream",
     "text": [
      "F.R.I.E.N.D.S. character: Ross\n",
      "F.R.I.E.N.D.S. character: Rachel\n",
      "F.R.I.E.N.D.S. character: Monika\n",
      "F.R.I.E.N.D.S. character: Joey\n",
      "F.R.I.E.N.D.S. character: Chandler\n",
      "F.R.I.E.N.D.S. character: Pheobe\n",
      "2nd character: Rachel\n",
      "6\n",
      "[0, 1, 2, 3, 4]\n"
     ]
    }
   ],
   "source": [
    "z=['Ross','Rachel','Monika','Joey','Chandler','Pheobe']\n",
    "for x in z:\n",
    "    print('F.R.I.E.N.D.S. character:',x)       #looping\n",
    "print('2nd character:',z[1])                   #indexing\n",
    "print(len(z))                                  #number of elements\n",
    "print(list(range(5)))                          #returns list of numbers from 0 to 4"
   ]
  },
  {
   "cell_type": "code",
   "execution_count": 84,
   "id": "e1355120",
   "metadata": {},
   "outputs": [
    {
     "name": "stdout",
     "output_type": "stream",
     "text": [
      "c: [1, 2, 8, 4, 15, 6]\n",
      "d: [8, 4, 15]\n",
      "<class 'list'>\n",
      "sorted c: [1, 2, 4, 6, 8, 15]\n"
     ]
    }
   ],
   "source": [
    "#list manipulation\n",
    "a=[1,2,8]\n",
    "b=[4,15,6]\n",
    "c=a+b\n",
    "print(\"c:\",c)            #concatenation\n",
    "d= c[2:5]\n",
    "print('d:',d)            #slicing\n",
    "print(type(a))           #list is a class itself\n",
    "4 in c                   #check in a list using 'in'\n",
    "c.sort()                 #sort the list in ascending order\n",
    "print('sorted c:',c)"
   ]
  },
  {
   "cell_type": "code",
   "execution_count": 89,
   "id": "80cd22b0",
   "metadata": {},
   "outputs": [
    {
     "name": "stdout",
     "output_type": "stream",
     "text": [
      "['Yonex', 'Li-Ning', 'Victor']\n"
     ]
    }
   ],
   "source": [
    "#adding elements in list:\n",
    "x=list()\n",
    "x.append('Yonex')\n",
    "x.append('Li-Ning')\n",
    "x.append('Victor')\n",
    "print(x)"
   ]
  },
  {
   "cell_type": "code",
   "execution_count": 91,
   "id": "e4163693",
   "metadata": {},
   "outputs": [
    {
     "name": "stdout",
     "output_type": "stream",
     "text": [
      "enter a number45\n",
      "enter a number55\n",
      "enter a number65\n",
      "enter a numberdone\n",
      "[45.0, 55.0, 65.0]\n"
     ]
    }
   ],
   "source": [
    "#add using loop\n",
    "numlist=list()\n",
    "while True:\n",
    "    inp=input('enter a number')\n",
    "    if inp=='done':\n",
    "        print(numlist)\n",
    "        break\n",
    "    value=float(inp)\n",
    "    numlist.append(value)"
   ]
  },
  {
   "cell_type": "code",
   "execution_count": 95,
   "id": "439f90e1",
   "metadata": {},
   "outputs": [
    {
     "name": "stdout",
     "output_type": "stream",
     "text": [
      "['Zathura', 'a', 'space', 'Adventure']\n",
      "number of elements:  4\n"
     ]
    }
   ],
   "source": [
    "#list and strings\n",
    "a= 'Zathura a    space Adventure'\n",
    "stuff=a.split()                            #breaks a string into parts and store them as a list\n",
    "print(stuff)                               #takes multiple spaces as a single space     \n",
    "print('number of elements: ',len(stuff))   #we can count number of words in a line "
   ]
  },
  {
   "cell_type": "code",
   "execution_count": 97,
   "id": "3599f4f7",
   "metadata": {},
   "outputs": [
    {
     "name": "stdout",
     "output_type": "stream",
     "text": [
      "['first', 'second', 'third', 'fourth']\n"
     ]
    }
   ],
   "source": [
    "#delimiter\n",
    "b= \"first;second;third;fourth\"\n",
    "ranks=b.split(\";\")\n",
    "print(ranks)"
   ]
  },
  {
   "cell_type": "code",
   "execution_count": 101,
   "id": "f434c85c",
   "metadata": {},
   "outputs": [
    {
     "name": "stdout",
     "output_type": "stream",
     "text": [
      "harry@gmail.com\n",
      "['harry', 'gmail.com']\n",
      "harry\n"
     ]
    }
   ],
   "source": [
    "#double split\n",
    "a='From harry@gmail.com Saturday Jan 5'\n",
    "b=a.split()\n",
    "c=b[1]\n",
    "print(c)\n",
    "d=c.split('@')\n",
    "print(d)\n",
    "name=d[0]\n",
    "print(name)"
   ]
  },
  {
   "cell_type": "code",
   "execution_count": 112,
   "id": "fcec92c7",
   "metadata": {},
   "outputs": [
    {
     "name": "stdout",
     "output_type": "stream",
     "text": [
      "['North', 'Asiatic', 'Brown', 'Polar', 'Panda', 'Sloth', 'Andean', 'Sun']\n"
     ]
    }
   ],
   "source": [
    "#double split\n",
    "name=list()\n",
    "xfile=open('Bear.txt')\n",
    "for line in xfile:\n",
    "    line=line.strip()\n",
    "    if line.endswith('Bear'):\n",
    "        a=line.split()\n",
    "        name.append(a[0])\n",
    "print(name)"
   ]
  },
  {
   "cell_type": "markdown",
   "id": "81e7801e",
   "metadata": {},
   "source": [
    "### Dictionaries\n",
    "Dictionaries are memory based key value stores<br>\n",
    "Dictionaries are like bags: no order<br>\n",
    "So,we index the things we put in the dictionary with a lookup tag<br>\n",
    "Dictionaries are like lists except they use keys instead of numbers to look up values<br>"
   ]
  },
  {
   "cell_type": "code",
   "execution_count": 1,
   "id": "863c1ec0",
   "metadata": {},
   "outputs": [
    {
     "name": "stdout",
     "output_type": "stream",
     "text": [
      "{'money': 12, 'candy': 5, 'tissues': 40}\n",
      "5\n"
     ]
    }
   ],
   "source": [
    "#create dictionary\n",
    "purse=dict()\n",
    "purse['money']=12\n",
    "purse['candy']=5\n",
    "purse['tissues']=40\n",
    "print(purse)\n",
    "print(purse['candy'])"
   ]
  },
  {
   "cell_type": "code",
   "execution_count": 3,
   "id": "3d357cbb",
   "metadata": {},
   "outputs": [
    {
     "name": "stdout",
     "output_type": "stream",
     "text": [
      "{'India': 91, 'America': 1, 'United Kingdoms': 44}\n"
     ]
    },
    {
     "data": {
      "text/plain": [
       "False"
      ]
     },
     "execution_count": 3,
     "metadata": {},
     "output_type": "execute_result"
    }
   ],
   "source": [
    "jjj={'India':91,'America':1,'United Kingdoms':44}\n",
    "print(jjj)\n",
    "'Zambia'in jjj"
   ]
  },
  {
   "cell_type": "code",
   "execution_count": 7,
   "id": "8c66b719",
   "metadata": {},
   "outputs": [
    {
     "name": "stdout",
     "output_type": "stream",
     "text": [
      "{'Fred': 1, 'george': 2, 'Mike': 1, 'Jimmy': 1, 'Henna': 1}\n"
     ]
    }
   ],
   "source": [
    "#counting with dictionaries\n",
    "#using 'in' operator to check if a key is in dictionary or not\n",
    "counts=dict()\n",
    "names=['Fred','george','Mike','Jimmy','george','Henna']\n",
    "for name in names:\n",
    "    if name not in counts:\n",
    "        counts[name]=1\n",
    "    else:\n",
    "        counts[name]=counts[name]+1\n",
    "print(counts)    "
   ]
  },
  {
   "cell_type": "code",
   "execution_count": 9,
   "id": "4d453d1f",
   "metadata": {},
   "outputs": [
    {
     "name": "stdout",
     "output_type": "stream",
     "text": [
      "0\n",
      "91\n"
     ]
    }
   ],
   "source": [
    "#get method for dictionaries to check if a key is already present or not\n",
    "country={'India':91,'America':1,'United Kingdoms':44}\n",
    "x= country.get('Kenya',0)            #0 : default value,no traceback\n",
    "y=country.get('India',0)\n",
    "print(x)\n",
    "print(y)"
   ]
  },
  {
   "cell_type": "code",
   "execution_count": 12,
   "id": "84097e3a",
   "metadata": {},
   "outputs": [
    {
     "name": "stdout",
     "output_type": "stream",
     "text": [
      "India 91\n",
      "America 1\n",
      "United Kingdoms 44\n",
      "['India', 'America', 'United Kingdoms']\n",
      "dict_keys(['India', 'America', 'United Kingdoms'])\n",
      "dict_values([91, 1, 44])\n",
      "dict_items([('India', 91), ('America', 1), ('United Kingdoms', 44)])\n"
     ]
    }
   ],
   "source": [
    "#for in dictionaries looks up all the keys and values\n",
    "country={'India':91,'America':1,'United Kingdoms':44}\n",
    "for key in country:\n",
    "    print(key,country[key])\n",
    "print(list(country))        #list of all keys\n",
    "print(country.keys())       #list of all keys\n",
    "print(country.values())       #values of all keys\n",
    "print(country.items())      #returns a list"
   ]
  },
  {
   "cell_type": "code",
   "execution_count": 13,
   "id": "15747d74",
   "metadata": {},
   "outputs": [
    {
     "name": "stdout",
     "output_type": "stream",
     "text": [
      "India 91\n",
      "America 1\n",
      "United Kingdoms 44\n"
     ]
    }
   ],
   "source": [
    "#two iteration variables\n",
    "country={'India':91,'America':1,'United Kingdoms':44}\n",
    "for aaa,bbb in country.items():\n",
    "    print(aaa,bbb)"
   ]
  },
  {
   "cell_type": "markdown",
   "id": "f00e3f62",
   "metadata": {},
   "source": [
    "### Tuples\n",
    "More like lists, tuples cannot be modified(immutable)<br>\n",
    "Tuples work much like list, they have elements which are indexed starting at 0<br>\n",
    "Since tuples are immutable, append(),reverse(),sort() functions won't work<br>\n",
    "Simpler and efficient than lists in terms of memory use and performance<br>\n",
    "When we make temp. variables tuples are preffered over lists<br>\n"
   ]
  },
  {
   "cell_type": "code",
   "execution_count": 16,
   "id": "3b55e31d",
   "metadata": {},
   "outputs": [
    {
     "name": "stdout",
     "output_type": "stream",
     "text": [
      "Javelin\n",
      "y: 23\n",
      "y: 45\n",
      "y: 67\n",
      "b: 3\n"
     ]
    }
   ],
   "source": [
    "#create tuple\n",
    "x=('Cricket','Badminton','Javelin','Archery')\n",
    "print(x[2])\n",
    "y=(23,45,67)\n",
    "for z in y:\n",
    "    print('y:',z)\n",
    "(a,b)= ('Honk',3)        #tuples mapping\n",
    "print('b:',b)"
   ]
  },
  {
   "cell_type": "markdown",
   "id": "2e21b23f",
   "metadata": {},
   "source": [
    "Tuples are comparable. We can take advantage of the fact to sort list of tuples<br>\n",
    "using items() and sorted()"
   ]
  },
  {
   "cell_type": "code",
   "execution_count": 17,
   "id": "3292933a",
   "metadata": {},
   "outputs": [
    {
     "data": {
      "text/plain": [
       "[('a', 10), ('b', 1), ('c', 22)]"
      ]
     },
     "execution_count": 17,
     "metadata": {},
     "output_type": "execute_result"
    }
   ],
   "source": [
    "#sort based on  keys\n",
    "d={'a':10,'b':1,'c':22}\n",
    "sorted(d.items())"
   ]
  },
  {
   "cell_type": "code",
   "execution_count": 20,
   "id": "61a4663c",
   "metadata": {},
   "outputs": [
    {
     "name": "stdout",
     "output_type": "stream",
     "text": [
      "temp list: [(10, 'a'), (1, 'b'), (22, 'c')]\n",
      "sorted temp : [(22, 'c'), (10, 'a'), (1, 'b')]\n"
     ]
    }
   ],
   "source": [
    "#sort based on values\n",
    "d={'a':10,'b':1,'c':22}\n",
    "temp=list()\n",
    "for(k,v) in d.items():\n",
    "    temp.append((v,k))\n",
    "print('temp list:',temp)\n",
    "\n",
    "c =sorted(temp,reverse=True)\n",
    "print('sorted temp :',c)"
   ]
  }
 ],
 "metadata": {
  "kernelspec": {
   "display_name": "Python 3 (ipykernel)",
   "language": "python",
   "name": "python3"
  },
  "language_info": {
   "codemirror_mode": {
    "name": "ipython",
    "version": 3
   },
   "file_extension": ".py",
   "mimetype": "text/x-python",
   "name": "python",
   "nbconvert_exporter": "python",
   "pygments_lexer": "ipython3",
   "version": "3.10.7"
  }
 },
 "nbformat": 4,
 "nbformat_minor": 5
}

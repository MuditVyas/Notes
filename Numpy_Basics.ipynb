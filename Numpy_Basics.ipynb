{
 "cells": [
  {
   "cell_type": "markdown",
   "id": "c004a12e",
   "metadata": {},
   "source": [
    "# Numpy Basics\n",
    "\n",
    "### Create array from lists"
   ]
  },
  {
   "cell_type": "code",
   "execution_count": 12,
   "id": "ae25fca0",
   "metadata": {},
   "outputs": [],
   "source": [
    "import numpy as np                               #import numpy\n",
    "\n",
    "list=[3,2,5,8,4]\n",
    "array1d=np.array(list)                           #create 1D array from lists\n",
    "\n",
    "list_of_lists =[[3,2,4],[6,7,2],[7,5,4]]\n",
    "array2d =np.array(list_of_lists)                 #create 2D array from lists\n",
    "\n",
    "array.shape                                      #find shape of array"
   ]
  },
  {
   "cell_type": "markdown",
   "id": "99bce044",
   "metadata": {},
   "source": [
    "### Create arrays"
   ]
  },
  {
   "cell_type": "code",
   "execution_count": 24,
   "id": "1e693a6c",
   "metadata": {},
   "outputs": [],
   "source": [
    "np.zeros((5,3))                                   #returns array of zeroes of desired shape (5,3) :: (rows,columns)\n",
    "np.random.random((2,4))                           #random floats between 0 and 1\n",
    "np.arange(-3,4)                                   #array([-3, -2, -1,  0,  1,  2,  3])\n",
    "np.arange(4)                                      #array([0, 1, 2, 3])\n",
    "np.arange(-3,4,3)                                 #array([-3,  0,  3])     last argument: step value"
   ]
  },
  {
   "cell_type": "markdown",
   "id": "88fc969e",
   "metadata": {},
   "source": [
    "### Array Dimensionality\n",
    "Vector : 1D array,either horizontal or vertical- should be described<br>\n",
    "shape(5,1) != shape(1,5)<br>\n",
    "3D array: list of list of lists / a bunch of 2D arrays stacked on each other<br>\n",
    "4D array: A 2D array filled with 3D array<br>"
   ]
  },
  {
   "cell_type": "code",
   "execution_count": null,
   "id": "b3939875",
   "metadata": {},
   "outputs": [],
   "source": [
    "#3D array creation\n",
    "array2d_1= np.array([2,4],[3,6])\n",
    "array2d_2= np.array([1,7],[2,5])\n",
    "array2d_3= np.array([3,5],[0,5])\n",
    "array3D= np.array([array2d_1,array2d_2,array2d_3]) \n",
    "\n",
    "#4D array creation\n",
    "array4D= np.array([3D1,3D2,3D3,3D4,3D5,3D6,3D7,3D8,3D9])\n",
    "\n",
    "#flatten an array : take all elements and put them in 1D array\n",
    "array =np.array([[2,1],[3,4],[5,6]])\n",
    "array.flatten()                                   # array([2,1,3,4,5,6])\n",
    "\n",
    "#reshape an array : reshape an array without changing its elements\n",
    "#number of elements must remain same : 2x3 = 3x2 =6\n",
    "array.reshape((2,3))                              #array([2,1,3],[4,5,6])"
   ]
  },
  {
   "cell_type": "markdown",
   "id": "e4306a9e",
   "metadata": {},
   "source": [
    "### Numpy data types\n",
    "numpy data types : np.int64   np.int32    np.float64   np.float32<br>\n",
    "While changing datatype, number can be casted easily into string but string cannot be casted in numbers<br>\n",
    "Type coercion:Python changes data type on its own when there are diffent types of data types<br>"
   ]
  },
  {
   "cell_type": "code",
   "execution_count": 28,
   "id": "8cf314c4",
   "metadata": {},
   "outputs": [],
   "source": [
    "#find data type of an array\n",
    "np.array([1.32,5.78]).dtype                                               #dtype('float64') \n",
    "np.array(['Introduction','to','Numpy']).dtype                             #dtype('<U12') : unicode string of max length 12\n",
    "array=np.array([1.32,5.78],dtype=np.float32)                              #set datatype of an array using dtype array\n",
    "\n",
    "boolean_array=np.array([[True,False],[False,True]],dtype=np.bool_)        #change datatype using astype()\n",
    "boolean_array.astype(np.int32)                                            # array([[1,0],[0,1]])\n",
    "np.array([True,\"Peep\",43,43.44]).dtype                                    # dtype(\"<U32\")  : type coercion\n",
    "np.array([23,23.0]).dtype                                    #dtype('float64'): adding a float changes dtype of integers as well\n",
    "np.array([True,False,22])                                    #adding intergers to boolean changes dtype of all to integers"
   ]
  },
  {
   "cell_type": "markdown",
   "id": "66e568a4",
   "metadata": {},
   "source": [
    "### Selecting data"
   ]
  },
  {
   "cell_type": "code",
   "execution_count": 34,
   "id": "e19c0576",
   "metadata": {},
   "outputs": [],
   "source": [
    "#Indexing Data : Indexing is zero based 0-> n\n",
    "np.array([2,4,6,8,10])\n",
    "array[3]                                       # indexing in 1D : returns 4th element of array=8\n",
    "\n",
    "array2D[0]                                     #indexing 1st row of 2D array\n",
    "array2D[:,3]                                   #indexing 4th column of 2D array\n",
    "\n",
    "#Slicing an array\n",
    "array=np.array([2,4,6,8,10])\n",
    "array[2:4]                                     #slicing 1D array : array([6,8])\n",
    "\n",
    "array2D[3:6,3:6]                               #slicing 2D array\n",
    "array2D[3:6:2,3:6:2]                           #slicing using step values\n",
    "\n",
    "#sorting arrays\n",
    "np.sort(array2D, axis=0)                       #sort arrays about a given axis, axis=0 across rows, =1 across columns\n",
    "\n",
    "#Filter datat using masks and fency indexing:\n",
    "array=np.arange(1,6)\n",
    "mask=array%2==0                                # [False  True False  True False] - Boolean masks\n",
    "array[mask]                                    #[2 4] : filtering with fency indexing\n",
    "\n",
    "a_1 = np.array([1,22],[2,21],[3,27],[4,26])\n",
    "a_1[a_1[:,0]%2==0]                             #array([[ 2, 21],[ 4, 26]]) - 2D fency indexing\n",
    "np.where(a_1[:,1]%2==0)                        # (array([0, 3], dtype=int64),) - np.where returns array of indices\n",
    "                                               # using np.where we find indices and later use it to find rest of info."
   ]
  },
  {
   "cell_type": "markdown",
   "id": "71e4bb04",
   "metadata": {},
   "source": [
    "### Adding/Removing Data\n",
    "Arrays to be concatenated must have comparable shape<br>\n",
    "3x3 + 4x2 is not possible<br>\n",
    "3x3 + 3x2 is possible - axis along which we have to concatenate should be of same length<br>\n",
    "Shape of array should be same / dimension should be same<br>\n",
    "Shape(3,3) + shape(3,) - ERROR! while shape(3,3) + shape(3,1) is concatenable<br>\n",
    "Concatenate does not create new dimension, it just adds along existing dimension<br>"
   ]
  },
  {
   "cell_type": "code",
   "execution_count": null,
   "id": "a2436bcb",
   "metadata": {},
   "outputs": [],
   "source": [
    "#concatenate 2 dfs of smae dimensions\n",
    "a_1= np.array([[1,22],[2,21],[3,27],[4,28]])\n",
    "a_2=np.array([[5,34],[7,30]])\n",
    "np.concatenate((a_1,a_2))\n",
    "\n",
    "#np.delete(array to delete from, index/indices to be deleted from,axis to be deleted along)\n",
    "np.delete(a_1,2,axis=0)"
   ]
  },
  {
   "cell_type": "markdown",
   "id": "e074bc5b",
   "metadata": {},
   "source": [
    "### Array Mathematics\n",
    "<img src=\"a_1.JPG\" />"
   ]
  },
  {
   "cell_type": "code",
   "execution_count": null,
   "id": "1125ef2d",
   "metadata": {},
   "outputs": [],
   "source": [
    "# aggregate methods are all applicable on arrays as well:\n",
    "a_1.sum()                                     #17 -sum of all elements\n",
    "a_1.sum(axis=0)                               #array([3,10,4]) -sum of values of each column/along axis 0\n",
    "a_1.sum(axis=1,keepdims=True)                 #array([6,2,4,5,0]) -along axis 1, keepdims used to achieve dimensional capability\n",
    "a_1.min()                                     #0 - min among all values\n",
    "a_1.max()                                     #5 - max among all values\n",
    "a_1.min(axis=0)                               #array([0,0,0]) -min value in each column/among axis 0\n",
    "a_1.mean()                                    #1.1333 -mean taking all values\n",
    "a_1.mean(axis=1)                              #array([2,0.66,1.33,1.66,0]) -mean along axis =1\n",
    "a_1.cumsum(axis=0)                            #array([[0,5,1],[0,7,1],[1,8,3],[3,10,4],[3,10,4]])\n",
    "\n",
    "a_1=np.array([[1,2,3],[4,5,6]])\n",
    "a_2=np.array([[0,1,0],[1,0,1]])\n",
    "a_3=[['Mufasa','the','lion','king']]\n",
    "a_1 +3                                      #array([[4,5,6],[7,8,9]]) - Vectorized operations\n",
    "a_1*3                                       #array([[3,6,9],[12,15,18]]) - multiply by a scalar\n",
    "a_1+a_2                                     #array([[1,3,3],[5,5,7]]) - addition of 2 arrays\n",
    "a_1*a_2                                     #array([[0,2,0],[4,0,6]]) - multiplication of 2 arrays\n",
    "a_1 > 2                                     #array([[False, False,  True],[ True,  True,  True]]) - Boolean masks\n",
    "len(a_1)                                    # 2-number of elements in array\n",
    "vectorized_len=np.vectorize(len)            #array([[6,3,4,4]]) - to obtain length of each element in an array of strings\n",
    "vectorized_len(a_3)                         "
   ]
  },
  {
   "cell_type": "markdown",
   "id": "01c35488",
   "metadata": {},
   "source": [
    "### Broadcasting\n",
    "Broadcasting is conversion which helps to stretch array in order to perform operations<br>\n",
    "Two Dimensions are compatible when: \n",
    "- One of them has length of 1\n",
    "- They are of equal lengths\n",
    "- Eg:shape(10,5) and shape(10,1) are broadcastable as rows are equal and one of the length is 1<br>\n",
    "Broadcasting column: (2,5) + (2,1)<br>\n",
    "Broadcasting scalar: (3,3) + 2<br>\n",
    "Broadcasting rows:   (2,5) + (1,5)<br>"
   ]
  },
  {
   "cell_type": "code",
   "execution_count": 35,
   "id": "5423a4f1",
   "metadata": {},
   "outputs": [
    {
     "data": {
      "text/plain": [
       "array([[ 0,  2,  4,  6,  8],\n",
       "       [ 5,  7,  9, 11, 13]])"
      ]
     },
     "execution_count": 35,
     "metadata": {},
     "output_type": "execute_result"
    }
   ],
   "source": [
    "array=np.arange(10).reshape((2,5))\n",
    "array+np.array([0,1,2,3,4])"
   ]
  },
  {
   "cell_type": "markdown",
   "id": "a1751178",
   "metadata": {},
   "source": [
    "### Array Transformations:\n",
    "**Saving and loading arrays**<br>\n",
    ".npy format is most effienct and quick way to store arrays<br>"
   ]
  },
  {
   "cell_type": "code",
   "execution_count": 71,
   "id": "206a5a23",
   "metadata": {},
   "outputs": [
    {
     "data": {
      "image/png": "[encoded data removed]",
      "text/plain": [
       "<Figure size 300x200 with 1 Axes>"
      ]
     },
     "metadata": {},
     "output_type": "display_data"
    },
    {
     "data": {
      "image/png": "[encoded data removed]",
      "text/plain": [
       "<Figure size 300x200 with 1 Axes>"
      ]
     },
     "metadata": {},
     "output_type": "display_data"
    }
   ],
   "source": [
    "#load_array=np.load(\"file_name.npy\")                         #load .npy file\n",
    "#np.save(\"file_name.npy\",a_1)                                #save a_1 array under file name \"file_name.py\"\n",
    "\n",
    "\n",
    "import matplotlib.pyplot as plt \n",
    "rgb= np.array([[[255,0,0],[255,0,0],[255,0,0]],[[0,255,0],[0,255,0],[0,255,0]],[[0,0,255],[0,0,255],[0,0,255]]])\n",
    "plt.figure(figsize=(3,2))\n",
    "plt.imshow(rgb)                                            #view rgb data using matplotlib\n",
    "plt.show()\n",
    "\n",
    "dla=np.where(rgb==255,50,rgb)                              #update rgb data\n",
    "plt.figure(figsize=(3,2))\n",
    "plt.imshow(dla)\n",
    "plt.show\n",
    "\n",
    "np.save(\"rgb.npy\",rgb)"
   ]
  },
  {
   "cell_type": "markdown",
   "id": "7e369f10",
   "metadata": {},
   "source": [
    "### Array Acrobatics"
   ]
  },
  {
   "cell_type": "code",
   "execution_count": 81,
   "id": "0e81bb8c",
   "metadata": {},
   "outputs": [],
   "source": [
    "rgb= np.load(\"rgb.npy\")\n",
    "flip array\n",
    "flipped_rgb = np.flip(rgb,axis=0)                          #flipping along axis 0  \n",
    "flipped_rgb = np.flip(rgb,axis=(0,1))                      #multiaxes flip\n",
    "\n",
    "#transpose array\n",
    "dialpad= np.array([[1,2,3],[4,5,6],[7,8,9]])\n",
    "tr_dialpad= np.transpose(dialpad)                          # transpose array\n",
    "tr_dialpad=np.transpose(dialpad,axes=(1,0,2))              # 90degree rotated to left and as mirror image of itself\n",
    "\n",
    "#stacking and splitting array:\n",
    "red_array=rgb[:,:,0]\n",
    "green_array=rgb[:,:,1]\n",
    "blue_array=rgb[:,:,2]\n",
    "\n",
    "r_array,g_array,b_array=np.split(rgb,3,axis=2)             #splitting using np.split()\n",
    "\n",
    "stacked_rgb=np.stack([r_array,g_array,b_array],axis=2)     #stacking array about 3rdaxis/z axis"
   ]
  }
 ],
 "metadata": {
  "kernelspec": {
   "display_name": "Python 3 (ipykernel)",
   "language": "python",
   "name": "python3"
  },
  "language_info": {
   "codemirror_mode": {
    "name": "ipython",
    "version": 3
   },
   "file_extension": ".py",
   "mimetype": "text/x-python",
   "name": "python",
   "nbconvert_exporter": "python",
   "pygments_lexer": "ipython3",
   "version": "3.10.7"
  }
 },
 "nbformat": 4,
 "nbformat_minor": 5
}
